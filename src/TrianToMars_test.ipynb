{
 "cells": [
  {
   "cell_type": "code",
   "execution_count": 12,
   "metadata": {},
   "outputs": [
    {
     "name": "stdout",
     "output_type": "stream",
     "text": [
      "Load 884 examples from ../data/dev-v1.1-processed.json...\n"
     ]
    }
   ],
   "source": [
    "from utils import load_data\n",
    "dataset = load_data('../data/dev-v1.1-processed.json')"
   ]
  },
  {
   "cell_type": "code",
   "execution_count": 13,
   "metadata": {},
   "outputs": [
    {
     "name": "stdout",
     "output_type": "stream",
     "text": [
      "The autoreload extension is already loaded. To reload it, use:\n",
      "  %reload_ext autoreload\n"
     ]
    }
   ],
   "source": [
    "%load_ext autoreload\n",
    "%autoreload 2"
   ]
  },
  {
   "cell_type": "code",
   "execution_count": 14,
   "metadata": {},
   "outputs": [],
   "source": [
    "data = dataset[55: 85]"
   ]
  },
  {
   "cell_type": "code",
   "execution_count": 15,
   "metadata": {},
   "outputs": [],
   "source": [
    "def get_word(passage, start, end):\n",
    "    from preprocess import SpacyTokenizer\n",
    "    mine = SpacyTokenizer()\n",
    "    tokenized = [i[0] for i in mine.tokenize(passage).data]\n",
    "    joined = ' '. join(tokenized[start : end + 1])\n",
    "    return joined"
   ]
  },
  {
   "cell_type": "code",
   "execution_count": 16,
   "metadata": {},
   "outputs": [
    {
     "name": "stdout",
     "output_type": "stream",
     "text": [
      "Question: What was the resolution of the cameras used in the EyeVision 360 system ?\n",
      "Answer: five\n"
     ]
    }
   ],
   "source": [
    "print('Question:', data[0].question)\n",
    "print('Answer:', get_word(data[0].passage, data[0].y_start.index(1), data[0].y_end.index(1)))"
   ]
  },
  {
   "cell_type": "code",
   "execution_count": 21,
   "metadata": {},
   "outputs": [],
   "source": [
    "class custom_arguments:\n",
    "    def __init__(self, args):\n",
    "        self.batch_size = args['batch_size']\n",
    "        self.doc_layers = args['doc_layers']\n",
    "        self.dropout_emb = args['dropout_emb']\n",
    "        self.dropout_rnn_output = args['dropout_rnn_output']\n",
    "        self.embedding_file = args['embedding_file']\n",
    "        self.epoch = args['epoch']\n",
    "        self.finetune_topk = args['finetune_topk']\n",
    "        self.gpu = args['gpu']\n",
    "        self.grad_clipping = args['grad_clipping']\n",
    "        self.hidden_size = args['hidden_size']\n",
    "        self.lr = args['lr']\n",
    "        self.ner_emb_dim = args['ner_emb_dim']\n",
    "        self.optimizer = args['optimizer']\n",
    "        self.pos_emb_dim = args['pos_emb_dim']\n",
    "        self.pretrained = args['pretrained']\n",
    "        self.rel_emb_dim = args['rel_emb_dim']\n",
    "        self.rnn_padding = args['rnn_padding']\n",
    "        self.rnn_type = args['rnn_type']\n",
    "        self.seed = args['seed']\n",
    "        self.test_mode = args['test_mode']\n",
    "        self.use_cuda = args['use_cuda']\n",
    "        self.p_max_size = args['p_max_size']\n",
    "        self.q_max_size = args['q_max_size']\n",
    "        \n",
    "        \n",
    "args_dict = {'batch_size':32, 'doc_layers':1, 'dropout_emb':0.4, 'dropout_rnn_output':0.4,\n",
    "             'embedding_file':'../data/glove.6B.300d.txt',\n",
    "             'epoch':50, 'finetune_topk':10, 'gpu':'0', 'grad_clipping':10.0, 'hidden_size':96,\n",
    "             'lr':0.002, 'ner_emb_dim':8, 'optimizer':'adamax', 'pos_emb_dim':12, 'pretrained':'',\n",
    "             'rel_emb_dim':10, 'rnn_padding':True, 'rnn_type':'lstm', 'seed':1234, 'test_mode':False,\n",
    "             'use_cuda':True, 'p_max_size':400, 'q_max_size':42}\n",
    "args = custom_arguments(args_dict)"
   ]
  },
  {
   "cell_type": "code",
   "execution_count": 22,
   "metadata": {
    "scrolled": true
   },
   "outputs": [],
   "source": [
    "%%capture\n",
    "import model\n",
    "from utils import build_vocab\n",
    "build_vocab()\n",
    "model = model.Model(args)"
   ]
  },
  {
   "cell_type": "code",
   "execution_count": 23,
   "metadata": {
    "scrolled": true
   },
   "outputs": [
    {
     "name": "stdout",
     "output_type": "stream",
     "text": [
      "tensor(1.00000e-02 *\n",
      "       [[ 0.8270,  0.7605,  0.8119,  ...,  0.0000,  0.0000,  0.0000],\n",
      "        [ 0.8270,  0.7605,  0.8119,  ...,  0.0000,  0.0000,  0.0000],\n",
      "        [ 0.6559,  0.6032,  0.6440,  ...,  0.0000,  0.0000,  0.0000],\n",
      "        ...,\n",
      "        [ 1.0122,  0.9308,  0.9938,  ...,  0.0000,  0.0000,  0.0000],\n",
      "        [ 1.0122,  0.9308,  0.9938,  ...,  0.0000,  0.0000,  0.0000],\n",
      "        [ 1.0122,  0.9308,  0.9938,  ...,  0.0000,  0.0000,  0.0000]]) tensor(1.00000e-02 *\n",
      "       [[ 0.8035,  0.7918,  0.8182,  ...,  0.0000,  0.0000,  0.0000],\n",
      "        [ 0.8035,  0.7918,  0.8182,  ...,  0.0000,  0.0000,  0.0000],\n",
      "        [ 0.6366,  0.6273,  0.6482,  ...,  0.0000,  0.0000,  0.0000],\n",
      "        ...,\n",
      "        [ 0.9826,  0.9682,  1.0005,  ...,  0.0000,  0.0000,  0.0000],\n",
      "        [ 0.9826,  0.9682,  1.0005,  ...,  0.0000,  0.0000,  0.0000],\n",
      "        [ 0.9826,  0.9682,  1.0005,  ...,  0.0000,  0.0000,  0.0000]])\n"
     ]
    },
    {
     "data": {
      "text/plain": [
       "[tensor(1.00000e-02 *\n",
       "        [[ 0.8270,  0.7605,  0.8119,  ...,  0.0000,  0.0000,  0.0000],\n",
       "         [ 0.8270,  0.7605,  0.8119,  ...,  0.0000,  0.0000,  0.0000],\n",
       "         [ 0.6559,  0.6032,  0.6440,  ...,  0.0000,  0.0000,  0.0000],\n",
       "         ...,\n",
       "         [ 1.0122,  0.9308,  0.9938,  ...,  0.0000,  0.0000,  0.0000],\n",
       "         [ 1.0122,  0.9308,  0.9938,  ...,  0.0000,  0.0000,  0.0000],\n",
       "         [ 1.0122,  0.9308,  0.9938,  ...,  0.0000,  0.0000,  0.0000]]),\n",
       " tensor(1.00000e-02 *\n",
       "        [[ 0.8035,  0.7918,  0.8182,  ...,  0.0000,  0.0000,  0.0000],\n",
       "         [ 0.8035,  0.7918,  0.8182,  ...,  0.0000,  0.0000,  0.0000],\n",
       "         [ 0.6366,  0.6273,  0.6482,  ...,  0.0000,  0.0000,  0.0000],\n",
       "         ...,\n",
       "         [ 0.9826,  0.9682,  1.0005,  ...,  0.0000,  0.0000,  0.0000],\n",
       "         [ 0.9826,  0.9682,  1.0005,  ...,  0.0000,  0.0000,  0.0000],\n",
       "         [ 0.9826,  0.9682,  1.0005,  ...,  0.0000,  0.0000,  0.0000]])]"
      ]
     },
     "execution_count": 23,
     "metadata": {},
     "output_type": "execute_result"
    }
   ],
   "source": [
    "prediction = model.predict(data)\n",
    "prediction"
   ]
  },
  {
   "cell_type": "code",
   "execution_count": 25,
   "metadata": {},
   "outputs": [
    {
     "ename": "AttributeError",
     "evalue": "'list' object has no attribute 'size'",
     "output_type": "error",
     "traceback": [
      "\u001b[0;31m---------------------------------------------------------------------------\u001b[0m",
      "\u001b[0;31mAttributeError\u001b[0m                            Traceback (most recent call last)",
      "\u001b[0;32m<ipython-input-25-fe9ff1d03524>\u001b[0m in \u001b[0;36m<module>\u001b[0;34m()\u001b[0m\n\u001b[0;32m----> 1\u001b[0;31m \u001b[0mprediction\u001b[0m\u001b[0;34m.\u001b[0m\u001b[0msize\u001b[0m\u001b[0;34m(\u001b[0m\u001b[0;34m)\u001b[0m\u001b[0;34m\u001b[0m\u001b[0m\n\u001b[0m",
      "\u001b[0;31mAttributeError\u001b[0m: 'list' object has no attribute 'size'"
     ]
    }
   ],
   "source": [
    "prediction.size()"
   ]
  },
  {
   "cell_type": "code",
   "execution_count": null,
   "metadata": {},
   "outputs": [],
   "source": [
    "def output_to_map(prediction):\n",
    "    maps = []\n",
    "    for sub_start, sub_end in zip(prediction[0], prediction[1]):\n",
    "        start = int(torch.argmax(sub_start))\n",
    "        end = int(torch.argmax(sub_end))\n",
    "        start, end = min(start, end), max(start, end)\n",
    "        maps.append([0] * start + [1] * (end - start) + [0]*(len(sub_start) - end))\n",
    "    return maps\n",
    "\n",
    "def map_padding(start, end):\n",
    "    padded = []\n",
    "    padded.extend([0] * start.index(1))\n",
    "    padded.extend([1] * (end.index(1) - start.index(1)))\n",
    "    padded.extend([0] * (len(start) - end.index(1)))\n",
    "    return padded"
   ]
  },
  {
   "cell_type": "code",
   "execution_count": 24,
   "metadata": {},
   "outputs": [
    {
     "name": "stdout",
     "output_type": "stream",
     "text": [
      "tensor(1.00000e-02 *\n",
      "       [[ 0.8270,  0.7605,  0.8119,  ...,  0.0000,  0.0000,  0.0000],\n",
      "        [ 0.8270,  0.7605,  0.8119,  ...,  0.0000,  0.0000,  0.0000],\n",
      "        [ 0.6559,  0.6032,  0.6440,  ...,  0.0000,  0.0000,  0.0000],\n",
      "        ...,\n",
      "        [ 1.0122,  0.9308,  0.9938,  ...,  0.0000,  0.0000,  0.0000],\n",
      "        [ 1.0122,  0.9308,  0.9938,  ...,  0.0000,  0.0000,  0.0000],\n",
      "        [ 1.0122,  0.9308,  0.9938,  ...,  0.0000,  0.0000,  0.0000]]) tensor(1.00000e-02 *\n",
      "       [[ 0.8035,  0.7918,  0.8182,  ...,  0.0000,  0.0000,  0.0000],\n",
      "        [ 0.8035,  0.7918,  0.8182,  ...,  0.0000,  0.0000,  0.0000],\n",
      "        [ 0.6366,  0.6273,  0.6482,  ...,  0.0000,  0.0000,  0.0000],\n",
      "        ...,\n",
      "        [ 0.9826,  0.9682,  1.0005,  ...,  0.0000,  0.0000,  0.0000],\n",
      "        [ 0.9826,  0.9682,  1.0005,  ...,  0.0000,  0.0000,  0.0000],\n",
      "        [ 0.9826,  0.9682,  1.0005,  ...,  0.0000,  0.0000,  0.0000]])\n",
      "pred_proba:  2 (tensor(1.00000e-02 *\n",
      "       [[ 0.8270,  0.7605,  0.8119,  ...,  0.0000,  0.0000,  0.0000],\n",
      "        [ 0.8270,  0.7605,  0.8119,  ...,  0.0000,  0.0000,  0.0000],\n",
      "        [ 0.6559,  0.6032,  0.6440,  ...,  0.0000,  0.0000,  0.0000],\n",
      "        ...,\n",
      "        [ 1.0122,  0.9308,  0.9938,  ...,  0.0000,  0.0000,  0.0000],\n",
      "        [ 1.0122,  0.9308,  0.9938,  ...,  0.0000,  0.0000,  0.0000],\n",
      "        [ 1.0122,  0.9308,  0.9938,  ...,  0.0000,  0.0000,  0.0000]]), tensor(1.00000e-02 *\n",
      "       [[ 0.8035,  0.7918,  0.8182,  ...,  0.0000,  0.0000,  0.0000],\n",
      "        [ 0.8035,  0.7918,  0.8182,  ...,  0.0000,  0.0000,  0.0000],\n",
      "        [ 0.6366,  0.6273,  0.6482,  ...,  0.0000,  0.0000,  0.0000],\n",
      "        ...,\n",
      "        [ 0.9826,  0.9682,  1.0005,  ...,  0.0000,  0.0000,  0.0000],\n",
      "        [ 0.9826,  0.9682,  1.0005,  ...,  0.0000,  0.0000,  0.0000],\n",
      "        [ 0.9826,  0.9682,  1.0005,  ...,  0.0000,  0.0000,  0.0000]]))\n"
     ]
    },
    {
     "ename": "TypeError",
     "evalue": "output_to_map() takes 1 positional argument but 2 were given",
     "output_type": "error",
     "traceback": [
      "\u001b[0;31m---------------------------------------------------------------------------\u001b[0m",
      "\u001b[0;31mTypeError\u001b[0m                                 Traceback (most recent call last)",
      "\u001b[0;32m<ipython-input-24-142476691681>\u001b[0m in \u001b[0;36m<module>\u001b[0;34m()\u001b[0m\n\u001b[0;32m----> 1\u001b[0;31m \u001b[0mevaluate\u001b[0m \u001b[0;34m=\u001b[0m \u001b[0mmodel\u001b[0m\u001b[0;34m.\u001b[0m\u001b[0mevaluate\u001b[0m\u001b[0;34m(\u001b[0m\u001b[0mdata\u001b[0m\u001b[0;34m)\u001b[0m\u001b[0;34m\u001b[0m\u001b[0m\n\u001b[0m\u001b[1;32m      2\u001b[0m \u001b[0mevaluate\u001b[0m\u001b[0;34m\u001b[0m\u001b[0m\n",
      "\u001b[0;32m~/GDrive/Marc-Antoine/Project_QAModels/Workspace/TriAN_pytorch/src/model.py\u001b[0m in \u001b[0;36mevaluate\u001b[0;34m(self, dev_data)\u001b[0m\n\u001b[1;32m    138\u001b[0m             \u001b[0mpred_proba\u001b[0m \u001b[0;34m=\u001b[0m \u001b[0mself\u001b[0m\u001b[0;34m.\u001b[0m\u001b[0mnetwork\u001b[0m\u001b[0;34m(\u001b[0m\u001b[0;34m*\u001b[0m\u001b[0mfeed_input\u001b[0m\u001b[0;34m)\u001b[0m\u001b[0;34m\u001b[0m\u001b[0m\n\u001b[1;32m    139\u001b[0m             \u001b[0mprint\u001b[0m\u001b[0;34m(\u001b[0m\u001b[0;34m'pred_proba: '\u001b[0m\u001b[0;34m,\u001b[0m\u001b[0mlen\u001b[0m\u001b[0;34m(\u001b[0m\u001b[0mpred_proba\u001b[0m\u001b[0;34m)\u001b[0m \u001b[0;34m,\u001b[0m \u001b[0mpred_proba\u001b[0m\u001b[0;34m)\u001b[0m\u001b[0;34m\u001b[0m\u001b[0m\n\u001b[0;32m--> 140\u001b[0;31m             \u001b[0mmap_pred\u001b[0m \u001b[0;34m=\u001b[0m \u001b[0mself\u001b[0m\u001b[0;34m.\u001b[0m\u001b[0moutput_to_map\u001b[0m\u001b[0;34m(\u001b[0m\u001b[0mpred_proba\u001b[0m\u001b[0;34m)\u001b[0m\u001b[0;34m\u001b[0m\u001b[0m\n\u001b[0m\u001b[1;32m    141\u001b[0m             \u001b[0;32mfor\u001b[0m \u001b[0mi\u001b[0m\u001b[0;34m,\u001b[0m \u001b[0mdata\u001b[0m \u001b[0;32min\u001b[0m \u001b[0menumerate\u001b[0m\u001b[0;34m(\u001b[0m\u001b[0mfeed_input\u001b[0m\u001b[0;34m)\u001b[0m\u001b[0;34m:\u001b[0m\u001b[0;34m\u001b[0m\u001b[0m\n\u001b[1;32m    142\u001b[0m                 \u001b[0mtruth\u001b[0m \u001b[0;34m=\u001b[0m \u001b[0mself\u001b[0m\u001b[0;34m.\u001b[0m\u001b[0mmap_padding\u001b[0m\u001b[0;34m(\u001b[0m\u001b[0mdata\u001b[0m\u001b[0;34m.\u001b[0m\u001b[0my_start\u001b[0m\u001b[0;34m,\u001b[0m \u001b[0mdata\u001b[0m\u001b[0;34m.\u001b[0m\u001b[0my_end\u001b[0m\u001b[0;34m)\u001b[0m\u001b[0;34m\u001b[0m\u001b[0m\n",
      "\u001b[0;31mTypeError\u001b[0m: output_to_map() takes 1 positional argument but 2 were given"
     ]
    }
   ],
   "source": [
    "evaluate = model.evaluate(data)\n",
    "evaluate"
   ]
  },
  {
   "cell_type": "code",
   "execution_count": null,
   "metadata": {},
   "outputs": [],
   "source": [
    "import torch\n",
    "from sklearn.metrics import f1_score\n",
    "f1_scores = []\n",
    "map_pred = output_to_map(evaluate)\n",
    "for i, sub in enumerate(data):\n",
    "    truth = map_padding(sub.y_start, sub.y_end)\n",
    "    f1_scores.append(f1_score(truth, map_pred[i][:len(truth)]))\n",
    "    a = sum(f1_scores)/len(f1_scores)"
   ]
  },
  {
   "cell_type": "code",
   "execution_count": null,
   "metadata": {},
   "outputs": [],
   "source": []
  },
  {
   "cell_type": "code",
   "execution_count": null,
   "metadata": {},
   "outputs": [],
   "source": []
  },
  {
   "cell_type": "code",
   "execution_count": null,
   "metadata": {},
   "outputs": [],
   "source": []
  },
  {
   "cell_type": "code",
   "execution_count": null,
   "metadata": {},
   "outputs": [],
   "source": []
  },
  {
   "cell_type": "code",
   "execution_count": null,
   "metadata": {},
   "outputs": [],
   "source": []
  },
  {
   "cell_type": "code",
   "execution_count": null,
   "metadata": {},
   "outputs": [],
   "source": []
  },
  {
   "cell_type": "code",
   "execution_count": null,
   "metadata": {},
   "outputs": [],
   "source": []
  },
  {
   "cell_type": "code",
   "execution_count": null,
   "metadata": {},
   "outputs": [],
   "source": []
  },
  {
   "cell_type": "code",
   "execution_count": null,
   "metadata": {},
   "outputs": [],
   "source": []
  },
  {
   "cell_type": "code",
   "execution_count": null,
   "metadata": {},
   "outputs": [],
   "source": []
  },
  {
   "cell_type": "code",
   "execution_count": null,
   "metadata": {},
   "outputs": [],
   "source": []
  },
  {
   "cell_type": "code",
   "execution_count": null,
   "metadata": {},
   "outputs": [],
   "source": []
  },
  {
   "cell_type": "code",
   "execution_count": null,
   "metadata": {},
   "outputs": [],
   "source": []
  },
  {
   "cell_type": "code",
   "execution_count": null,
   "metadata": {},
   "outputs": [],
   "source": []
  },
  {
   "cell_type": "code",
   "execution_count": null,
   "metadata": {},
   "outputs": [],
   "source": []
  }
 ],
 "metadata": {
  "kernelspec": {
   "display_name": "Python 3",
   "language": "python",
   "name": "python3"
  },
  "language_info": {
   "codemirror_mode": {
    "name": "ipython",
    "version": 3
   },
   "file_extension": ".py",
   "mimetype": "text/x-python",
   "name": "python",
   "nbconvert_exporter": "python",
   "pygments_lexer": "ipython3",
   "version": "3.6.5"
  }
 },
 "nbformat": 4,
 "nbformat_minor": 2
}
