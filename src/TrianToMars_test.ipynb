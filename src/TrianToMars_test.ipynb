{
 "cells": [
  {
   "cell_type": "code",
   "execution_count": 1,
   "metadata": {},
   "outputs": [
    {
     "name": "stdout",
     "output_type": "stream",
     "text": [
      "Load 10570 examples from ../data/dev-v1.1-processed.json...\n"
     ]
    }
   ],
   "source": [
    "from utils import load_data\n",
    "dataset = load_data('../data/dev-v1.1-processed.json')"
   ]
  },
  {
   "cell_type": "code",
   "execution_count": 2,
   "metadata": {},
   "outputs": [
    {
     "data": {
      "text/plain": [
       "[<doc.Example at 0x7f3507ac29b0>]"
      ]
     },
     "execution_count": 2,
     "metadata": {},
     "output_type": "execute_result"
    }
   ],
   "source": [
    "data = [dataset[55]]\n",
    "data"
   ]
  },
  {
   "cell_type": "code",
   "execution_count": 3,
   "metadata": {},
   "outputs": [],
   "source": [
    "def get_word(passage, start, end):\n",
    "    from preprocess import SpacyTokenizer\n",
    "    mine = SpacyTokenizer()\n",
    "    tokenized = [i[0] for i in mine.tokenize(passage).data]\n",
    "    joined = ' '. join(tokenized[start : end + 1])\n",
    "    return joined"
   ]
  },
  {
   "cell_type": "code",
   "execution_count": 4,
   "metadata": {},
   "outputs": [
    {
     "name": "stdout",
     "output_type": "stream",
     "text": [
      "Question: Who was the Super Bowl 50 MVP ?\n",
      "Answer: Von Miller\n"
     ]
    }
   ],
   "source": [
    "print('Question:', data[0].question)\n",
    "print('Answer:', get_word(data[0].passage, data[0].y_start.index(1), data[0].y_end.index(1)))"
   ]
  },
  {
   "cell_type": "code",
   "execution_count": 5,
   "metadata": {},
   "outputs": [],
   "source": [
    "class custom_arguments:\n",
    "    def __init__(self, args):\n",
    "        self.batch_size = args['batch_size']\n",
    "        self.doc_layers = args['doc_layers']\n",
    "        self.dropout_emb = args['dropout_emb']\n",
    "        self.dropout_rnn_output = args['dropout_rnn_output']\n",
    "        self.embedding_file = args['embedding_file']\n",
    "        self.epoch = args['epoch']\n",
    "        self.finetune_topk = args['finetune_topk']\n",
    "        self.gpu = args['gpu']\n",
    "        self.grad_clipping = args['grad_clipping']\n",
    "        self.hidden_size = args['hidden_size']\n",
    "        self.lr = args['lr']\n",
    "        self.ner_emb_dim = args['ner_emb_dim']\n",
    "        self.optimizer = args['optimizer']\n",
    "        self.pos_emb_dim = args['pos_emb_dim']\n",
    "        self.pretrained = args['pretrained']\n",
    "        self.rel_emb_dim = args['rel_emb_dim']\n",
    "        self.rnn_padding = args['rnn_padding']\n",
    "        self.rnn_type = args['rnn_type']\n",
    "        self.seed = args['seed']\n",
    "        self.test_mode = args['test_mode']\n",
    "        self.use_cuda = args['use_cuda']\n",
    "        \n",
    "args_dict = {'batch_size':32, 'doc_layers':1, 'dropout_emb':0.4, 'dropout_rnn_output':0.4,\n",
    "             'embedding_file':'/home/unchartech001/Local_Resources/glove.6B/glove.6B.300d.txt',\n",
    "             'epoch':50, 'finetune_topk':10, 'gpu':'0', 'grad_clipping':10.0, 'hidden_size':96,\n",
    "             'lr':0.002, 'ner_emb_dim':8, 'optimizer':'adamax', 'pos_emb_dim':12, 'pretrained':'',\n",
    "             'rel_emb_dim':10, 'rnn_padding':True, 'rnn_type':'lstm', 'seed':1234, 'test_mode':False,\n",
    "             'use_cuda':True}\n",
    "args = custom_arguments(args_dict)"
   ]
  },
  {
   "cell_type": "code",
   "execution_count": 6,
   "metadata": {},
   "outputs": [
    {
     "name": "stdout",
     "output_type": "stream",
     "text": [
      "Load vocabulary from ../data/vocab...\n",
      "Vocabulary size: 33382\n",
      "Load pos vocabulary from ../data/pos_vocab...\n",
      "POS vocabulary size: 51\n",
      "Load ner vocabulary from ../data/ner_vocab...\n",
      "NER vocabulary size: 20\n",
      "Load relation vocabulary from ../data/rel_vocab...\n",
      "Rel vocabulary size: 39\n",
      "Use cuda: False\n",
      "TriAN(\n",
      "  (embedding): Embedding(33382, 300, padding_idx=0)\n",
      "  (pos_embedding): Embedding(51, 12, padding_idx=0)\n",
      "  (ner_embedding): Embedding(20, 8, padding_idx=0)\n",
      "  (rel_embedding): Embedding(39, 10, padding_idx=0)\n",
      "  (p_q_emb_match): SeqAttnMatch(\n",
      "    (linear): Linear(in_features=300, out_features=300, bias=True)\n",
      "  )\n",
      "  (doc_rnn): StackedBRNN(\n",
      "    (rnns): ModuleList(\n",
      "      (0): LSTM(635, 96, bidirectional=True)\n",
      "    )\n",
      "  )\n",
      "  (question_rnn): StackedBRNN(\n",
      "    (rnns): ModuleList(\n",
      "      (0): LSTM(312, 96, bidirectional=True)\n",
      "    )\n",
      "  )\n",
      "  (q_self_attn_start): LinearSeqAttn(\n",
      "    (linear): Linear(in_features=192, out_features=1, bias=True)\n",
      "  )\n",
      "  (p_q_attn_start): BilinearSeqAttn(\n",
      "    (linear): Linear(in_features=192, out_features=192, bias=True)\n",
      "  )\n",
      "  (q_self_attn_end): LinearSeqAttn(\n",
      "    (linear): Linear(in_features=192, out_features=1, bias=True)\n",
      "  )\n",
      "  (p_q_attn_end): BilinearSeqAttn(\n",
      "    (linear): Linear(in_features=192, out_features=192, bias=True)\n",
      "  )\n",
      ")\n",
      "Number of parameters:  1046784\n"
     ]
    }
   ],
   "source": [
    "import model\n",
    "from utils import build_vocab\n",
    "build_vocab()\n",
    "model = model.Model(args)"
   ]
  },
  {
   "cell_type": "code",
   "execution_count": 11,
   "metadata": {
    "scrolled": true
   },
   "outputs": [
    {
     "ename": "RuntimeError",
     "evalue": "matrices expected, got 3D, 2D tensors at /pytorch/aten/src/TH/generic/THTensorMath.c:2028",
     "output_type": "error",
     "traceback": [
      "\u001b[0;31m---------------------------------------------------------------------------\u001b[0m",
      "\u001b[0;31mRuntimeError\u001b[0m                              Traceback (most recent call last)",
      "\u001b[0;32m<ipython-input-11-d2f836e5ffa4>\u001b[0m in \u001b[0;36m<module>\u001b[0;34m()\u001b[0m\n\u001b[0;32m----> 1\u001b[0;31m \u001b[0mprediction\u001b[0m \u001b[0;34m=\u001b[0m \u001b[0mmodel\u001b[0m\u001b[0;34m.\u001b[0m\u001b[0mpredict\u001b[0m\u001b[0;34m(\u001b[0m\u001b[0mdataset\u001b[0m\u001b[0;34m)\u001b[0m\u001b[0;34m\u001b[0m\u001b[0m\n\u001b[0m\u001b[1;32m      2\u001b[0m \u001b[0mprediction\u001b[0m\u001b[0;34m\u001b[0m\u001b[0m\n",
      "\u001b[0;32m~/GDrive/Marc-Antoine/Project_QAModels/Workspace/TriAN_pytorch/src/model.py\u001b[0m in \u001b[0;36mpredict\u001b[0;34m(self, test_data)\u001b[0m\n\u001b[1;32m    119\u001b[0m \u001b[0;34m\u001b[0m\u001b[0m\n\u001b[1;32m    120\u001b[0m             \u001b[0;31m# y = [int(i) for i in batch_input[-1][0]] #not using the last input: y\u001b[0m\u001b[0;34m\u001b[0m\u001b[0;34m\u001b[0m\u001b[0m\n\u001b[0;32m--> 121\u001b[0;31m             \u001b[0mpred_proba\u001b[0m \u001b[0;34m=\u001b[0m \u001b[0mself\u001b[0m\u001b[0;34m.\u001b[0m\u001b[0mnetwork\u001b[0m\u001b[0;34m(\u001b[0m\u001b[0;34m*\u001b[0m\u001b[0mfeed_input\u001b[0m\u001b[0;34m)\u001b[0m\u001b[0;34m\u001b[0m\u001b[0m\n\u001b[0m\u001b[1;32m    122\u001b[0m             \u001b[0mpred_proba_start\u001b[0m \u001b[0;34m=\u001b[0m \u001b[0mpred_proba\u001b[0m\u001b[0;34m[\u001b[0m\u001b[0;36m0\u001b[0m\u001b[0;34m]\u001b[0m\u001b[0;34m\u001b[0m\u001b[0m\n\u001b[1;32m    123\u001b[0m             \u001b[0mpred_proba_end\u001b[0m \u001b[0;34m=\u001b[0m \u001b[0mpred_proba\u001b[0m\u001b[0;34m[\u001b[0m\u001b[0;36m1\u001b[0m\u001b[0;34m]\u001b[0m\u001b[0;34m\u001b[0m\u001b[0m\n",
      "\u001b[0;32m~/.local/lib/python3.6/site-packages/torch/nn/modules/module.py\u001b[0m in \u001b[0;36m__call__\u001b[0;34m(self, *input, **kwargs)\u001b[0m\n\u001b[1;32m    489\u001b[0m             \u001b[0mresult\u001b[0m \u001b[0;34m=\u001b[0m \u001b[0mself\u001b[0m\u001b[0;34m.\u001b[0m\u001b[0m_slow_forward\u001b[0m\u001b[0;34m(\u001b[0m\u001b[0;34m*\u001b[0m\u001b[0minput\u001b[0m\u001b[0;34m,\u001b[0m \u001b[0;34m**\u001b[0m\u001b[0mkwargs\u001b[0m\u001b[0;34m)\u001b[0m\u001b[0;34m\u001b[0m\u001b[0m\n\u001b[1;32m    490\u001b[0m         \u001b[0;32melse\u001b[0m\u001b[0;34m:\u001b[0m\u001b[0;34m\u001b[0m\u001b[0m\n\u001b[0;32m--> 491\u001b[0;31m             \u001b[0mresult\u001b[0m \u001b[0;34m=\u001b[0m \u001b[0mself\u001b[0m\u001b[0;34m.\u001b[0m\u001b[0mforward\u001b[0m\u001b[0;34m(\u001b[0m\u001b[0;34m*\u001b[0m\u001b[0minput\u001b[0m\u001b[0;34m,\u001b[0m \u001b[0;34m**\u001b[0m\u001b[0mkwargs\u001b[0m\u001b[0;34m)\u001b[0m\u001b[0;34m\u001b[0m\u001b[0m\n\u001b[0m\u001b[1;32m    492\u001b[0m         \u001b[0;32mfor\u001b[0m \u001b[0mhook\u001b[0m \u001b[0;32min\u001b[0m \u001b[0mself\u001b[0m\u001b[0;34m.\u001b[0m\u001b[0m_forward_hooks\u001b[0m\u001b[0;34m.\u001b[0m\u001b[0mvalues\u001b[0m\u001b[0;34m(\u001b[0m\u001b[0;34m)\u001b[0m\u001b[0;34m:\u001b[0m\u001b[0;34m\u001b[0m\u001b[0m\n\u001b[1;32m    493\u001b[0m             \u001b[0mhook_result\u001b[0m \u001b[0;34m=\u001b[0m \u001b[0mhook\u001b[0m\u001b[0;34m(\u001b[0m\u001b[0mself\u001b[0m\u001b[0;34m,\u001b[0m \u001b[0minput\u001b[0m\u001b[0;34m,\u001b[0m \u001b[0mresult\u001b[0m\u001b[0;34m)\u001b[0m\u001b[0;34m\u001b[0m\u001b[0m\n",
      "\u001b[0;32m~/GDrive/Marc-Antoine/Project_QAModels/Workspace/TriAN_pytorch/src/mars.py\u001b[0m in \u001b[0;36mforward\u001b[0;34m(self, p, p_pos, p_ner, p_mask, q, q_pos, q_mask, f_tensor, p_q_relation)\u001b[0m\n\u001b[1;32m    137\u001b[0m \u001b[0;34m\u001b[0m\u001b[0m\n\u001b[1;32m    138\u001b[0m         \u001b[0;31m#### PASSAGE-QUESTION ATTENTION\u001b[0m\u001b[0;34m\u001b[0m\u001b[0;34m\u001b[0m\u001b[0m\n\u001b[0;32m--> 139\u001b[0;31m         \u001b[0mattn_map_start\u001b[0m \u001b[0;34m=\u001b[0m \u001b[0mself\u001b[0m\u001b[0;34m.\u001b[0m\u001b[0mstart_end_attn\u001b[0m\u001b[0;34m(\u001b[0m\u001b[0msingle_map_proba_start\u001b[0m\u001b[0;34m,\u001b[0m \u001b[0msingle_map_proba_end\u001b[0m\u001b[0;34m,\u001b[0m \u001b[0mp_mask\u001b[0m\u001b[0;34m)\u001b[0m\u001b[0;34m\u001b[0m\u001b[0m\n\u001b[0m\u001b[1;32m    140\u001b[0m         \u001b[0mattn_map_end\u001b[0m \u001b[0;34m=\u001b[0m \u001b[0mself\u001b[0m\u001b[0;34m.\u001b[0m\u001b[0mend_start_attn\u001b[0m\u001b[0;34m(\u001b[0m\u001b[0msingle_map_proba_end\u001b[0m\u001b[0;34m,\u001b[0m \u001b[0msingle_map_proba_start\u001b[0m\u001b[0;34m,\u001b[0m \u001b[0mp_mask\u001b[0m\u001b[0;34m)\u001b[0m\u001b[0;34m\u001b[0m\u001b[0m\n\u001b[1;32m    141\u001b[0m \u001b[0;34m\u001b[0m\u001b[0m\n",
      "\u001b[0;32m~/.local/lib/python3.6/site-packages/torch/nn/modules/module.py\u001b[0m in \u001b[0;36m__call__\u001b[0;34m(self, *input, **kwargs)\u001b[0m\n\u001b[1;32m    489\u001b[0m             \u001b[0mresult\u001b[0m \u001b[0;34m=\u001b[0m \u001b[0mself\u001b[0m\u001b[0;34m.\u001b[0m\u001b[0m_slow_forward\u001b[0m\u001b[0;34m(\u001b[0m\u001b[0;34m*\u001b[0m\u001b[0minput\u001b[0m\u001b[0;34m,\u001b[0m \u001b[0;34m**\u001b[0m\u001b[0mkwargs\u001b[0m\u001b[0;34m)\u001b[0m\u001b[0;34m\u001b[0m\u001b[0m\n\u001b[1;32m    490\u001b[0m         \u001b[0;32melse\u001b[0m\u001b[0;34m:\u001b[0m\u001b[0;34m\u001b[0m\u001b[0m\n\u001b[0;32m--> 491\u001b[0;31m             \u001b[0mresult\u001b[0m \u001b[0;34m=\u001b[0m \u001b[0mself\u001b[0m\u001b[0;34m.\u001b[0m\u001b[0mforward\u001b[0m\u001b[0;34m(\u001b[0m\u001b[0;34m*\u001b[0m\u001b[0minput\u001b[0m\u001b[0;34m,\u001b[0m \u001b[0;34m**\u001b[0m\u001b[0mkwargs\u001b[0m\u001b[0;34m)\u001b[0m\u001b[0;34m\u001b[0m\u001b[0m\n\u001b[0m\u001b[1;32m    492\u001b[0m         \u001b[0;32mfor\u001b[0m \u001b[0mhook\u001b[0m \u001b[0;32min\u001b[0m \u001b[0mself\u001b[0m\u001b[0;34m.\u001b[0m\u001b[0m_forward_hooks\u001b[0m\u001b[0;34m.\u001b[0m\u001b[0mvalues\u001b[0m\u001b[0;34m(\u001b[0m\u001b[0;34m)\u001b[0m\u001b[0;34m:\u001b[0m\u001b[0;34m\u001b[0m\u001b[0m\n\u001b[1;32m    493\u001b[0m             \u001b[0mhook_result\u001b[0m \u001b[0;34m=\u001b[0m \u001b[0mhook\u001b[0m\u001b[0;34m(\u001b[0m\u001b[0mself\u001b[0m\u001b[0;34m,\u001b[0m \u001b[0minput\u001b[0m\u001b[0;34m,\u001b[0m \u001b[0mresult\u001b[0m\u001b[0;34m)\u001b[0m\u001b[0;34m\u001b[0m\u001b[0m\n",
      "\u001b[0;32m~/GDrive/Marc-Antoine/Project_QAModels/Workspace/TriAN_pytorch/src/layers.py\u001b[0m in \u001b[0;36mforward\u001b[0;34m(self, x, y, x_mask)\u001b[0m\n\u001b[1;32m    298\u001b[0m         \u001b[0;31m# print('Wybmm', x.mm(Wy).size())\u001b[0m\u001b[0;34m\u001b[0m\u001b[0;34m\u001b[0m\u001b[0m\n\u001b[1;32m    299\u001b[0m \u001b[0;34m\u001b[0m\u001b[0m\n\u001b[0;32m--> 300\u001b[0;31m         \u001b[0mxWy\u001b[0m \u001b[0;34m=\u001b[0m \u001b[0mx\u001b[0m\u001b[0;34m.\u001b[0m\u001b[0mmm\u001b[0m\u001b[0;34m(\u001b[0m\u001b[0mWy\u001b[0m\u001b[0;34m)\u001b[0m\u001b[0;34m\u001b[0m\u001b[0m\n\u001b[0m\u001b[1;32m    301\u001b[0m         \u001b[0mxWy\u001b[0m\u001b[0;34m.\u001b[0m\u001b[0mdata\u001b[0m\u001b[0;34m.\u001b[0m\u001b[0mmasked_fill_\u001b[0m\u001b[0;34m(\u001b[0m\u001b[0mx_mask\u001b[0m\u001b[0;34m.\u001b[0m\u001b[0mdata\u001b[0m\u001b[0;34m,\u001b[0m \u001b[0;34m-\u001b[0m\u001b[0mfloat\u001b[0m\u001b[0;34m(\u001b[0m\u001b[0;34m'inf'\u001b[0m\u001b[0;34m)\u001b[0m\u001b[0;34m)\u001b[0m\u001b[0;34m\u001b[0m\u001b[0m\n\u001b[1;32m    302\u001b[0m         \u001b[0;32mif\u001b[0m \u001b[0mself\u001b[0m\u001b[0;34m.\u001b[0m\u001b[0mnormalize\u001b[0m\u001b[0;34m:\u001b[0m\u001b[0;34m\u001b[0m\u001b[0m\n",
      "\u001b[0;31mRuntimeError\u001b[0m: matrices expected, got 3D, 2D tensors at /pytorch/aten/src/TH/generic/THTensorMath.c:2028"
     ]
    }
   ],
   "source": [
    "prediction = model.predict(dataset)\n",
    "prediction"
   ]
  },
  {
   "cell_type": "code",
   "execution_count": null,
   "metadata": {},
   "outputs": [],
   "source": [
    "train_ = model.train(dataset)"
   ]
  },
  {
   "cell_type": "code",
   "execution_count": null,
   "metadata": {},
   "outputs": [],
   "source": []
  },
  {
   "cell_type": "code",
   "execution_count": null,
   "metadata": {},
   "outputs": [],
   "source": [
    "import torch\n",
    "def output_to_map(prediction):\n",
    "    start_maps, end_maps = [], []\n",
    "    for sub_start, sub_end in zip(prediction[0], prediction[1]):\n",
    "        start = int(torch.argmax(sub_start))\n",
    "        end = int(torch.argmax(sub_end))\n",
    "        start_maps.append([0] * start + [1] + [0]*(len(prediction[0]) - start))\n",
    "        end_maps.append([0] * end + [1] + [0]*(len(prediction[0]) - end))\n",
    "    return start_maps, end_maps"
   ]
  },
  {
   "cell_type": "code",
   "execution_count": null,
   "metadata": {},
   "outputs": [],
   "source": [
    "def map_padding(start, end):\n",
    "    padded = []\n",
    "    padded.extend([0] * start.index(1))\n",
    "    padded.extend([1] * (end.index(1) - start.index(1) + 1))\n",
    "    padded.extend([0] * (len(start) - end.index(1) - 1))\n",
    "    return padded"
   ]
  },
  {
   "cell_type": "code",
   "execution_count": null,
   "metadata": {},
   "outputs": [],
   "source": [
    "def evaluate(model, dev_data):\n",
    "    from sklearn.metrics import f1_score\n",
    "    f1_scores = []\n",
    "    for batch_input in model._iter_data(dev_data):\n",
    "            feed_input = [x for x in batch_input[:-1]]\n",
    "            pred_proba = model.network(*feed_input)\n",
    "            print(pred_proba)\n",
    "            map_pred = output_to_map(pred_proba)\n",
    "            for i, data in enumerate(feed_input):\n",
    "                print(data)\n",
    "                truth = map_padding(data.y_start, data.y_end)\n",
    "                prediction = map_padding(map_pred[0][i], map_pred[1][i])\n",
    "                f1_scores += f1_score(truth, prediction)\n",
    "    return sum(f1_scores)/len(f1_scores)"
   ]
  },
  {
   "cell_type": "code",
   "execution_count": null,
   "metadata": {},
   "outputs": [],
   "source": []
  },
  {
   "cell_type": "code",
   "execution_count": null,
   "metadata": {},
   "outputs": [],
   "source": [
    "score = evaluate(model, [dataset[0]])\n",
    "score"
   ]
  },
  {
   "cell_type": "code",
   "execution_count": null,
   "metadata": {},
   "outputs": [],
   "source": []
  },
  {
   "cell_type": "code",
   "execution_count": null,
   "metadata": {},
   "outputs": [],
   "source": []
  },
  {
   "cell_type": "code",
   "execution_count": null,
   "metadata": {},
   "outputs": [],
   "source": []
  },
  {
   "cell_type": "code",
   "execution_count": null,
   "metadata": {},
   "outputs": [],
   "source": []
  },
  {
   "cell_type": "code",
   "execution_count": null,
   "metadata": {},
   "outputs": [],
   "source": []
  },
  {
   "cell_type": "code",
   "execution_count": null,
   "metadata": {},
   "outputs": [],
   "source": []
  },
  {
   "cell_type": "code",
   "execution_count": null,
   "metadata": {},
   "outputs": [],
   "source": []
  },
  {
   "cell_type": "code",
   "execution_count": null,
   "metadata": {},
   "outputs": [],
   "source": []
  },
  {
   "cell_type": "code",
   "execution_count": null,
   "metadata": {},
   "outputs": [],
   "source": []
  }
 ],
 "metadata": {
  "kernelspec": {
   "display_name": "Python 3",
   "language": "python",
   "name": "python3"
  },
  "language_info": {
   "codemirror_mode": {
    "name": "ipython",
    "version": 3
   },
   "file_extension": ".py",
   "mimetype": "text/x-python",
   "name": "python",
   "nbconvert_exporter": "python",
   "pygments_lexer": "ipython3",
   "version": "3.6.5"
  }
 },
 "nbformat": 4,
 "nbformat_minor": 2
}
