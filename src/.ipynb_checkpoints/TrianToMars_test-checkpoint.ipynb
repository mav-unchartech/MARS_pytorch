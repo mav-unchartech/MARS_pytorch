{
 "cells": [
  {
   "cell_type": "code",
   "execution_count": 1,
   "metadata": {},
   "outputs": [
    {
     "name": "stdout",
     "output_type": "stream",
     "text": [
      "Load 1020 examples from ../data/trial-data-processed.json...\n"
     ]
    }
   ],
   "source": [
    "from utils import load_data\n",
    "data = [load_data('../data/trial-data-processed.json')[0]]"
   ]
  },
  {
   "cell_type": "code",
   "execution_count": 2,
   "metadata": {},
   "outputs": [],
   "source": [
    "class custom_arguments:\n",
    "    def __init__(self, args):\n",
    "        self.batch_size = args['batch_size']\n",
    "        self.doc_layers = args['doc_layers']\n",
    "        self.dropout_emb = args['dropout_emb']\n",
    "        self.dropout_rnn_output = args['dropout_rnn_output']\n",
    "        self.embedding_file = args['embedding_file']\n",
    "        self.epoch = args['epoch']\n",
    "        self.finetune_topk = args['finetune_topk']\n",
    "        self.gpu = args['gpu']\n",
    "        self.grad_clipping = args['grad_clipping']\n",
    "        self.hidden_size = args['hidden_size']\n",
    "        self.lr = args['lr']\n",
    "        self.ner_emb_dim = args['ner_emb_dim']\n",
    "        self.optimizer = args['optimizer']\n",
    "        self.pos_emb_dim = args['pos_emb_dim']\n",
    "        self.pretrained = args['pretrained']\n",
    "        self.rel_emb_dim = args['rel_emb_dim']\n",
    "        self.rnn_padding = args['rnn_padding']\n",
    "        self.rnn_type = args['rnn_type']\n",
    "        self.seed = args['seed']\n",
    "        self.test_mode = args['test_mode']\n",
    "        self.use_cuda = args['use_cuda']\n",
    "        \n",
    "args_dict = {'batch_size':32, 'doc_layers':1, 'dropout_emb':0.4, 'dropout_rnn_output':0.4,\n",
    "             'embedding_file':'/home/unchartech001/Local_Resources/glove.6B/glove.6B.300d.txt',\n",
    "             'epoch':50, 'finetune_topk':10, 'gpu':'0', 'grad_clipping':10.0, 'hidden_size':96,\n",
    "             'lr':0.002, 'ner_emb_dim':8, 'optimizer':'adamax', 'pos_emb_dim':12, 'pretrained':'',\n",
    "             'rel_emb_dim':10, 'rnn_padding':True, 'rnn_type':'lstm', 'seed':1234, 'test_mode':False,\n",
    "             'use_cuda':True}\n",
    "args = custom_arguments(args_dict)"
   ]
  },
  {
   "cell_type": "code",
   "execution_count": 3,
   "metadata": {},
   "outputs": [
    {
     "name": "stdout",
     "output_type": "stream",
     "text": [
      "Load vocabulary from ../data/vocab...\n",
      "Vocabulary size: 33382\n",
      "Load pos vocabulary from ../data/pos_vocab...\n",
      "POS vocabulary size: 51\n",
      "Load ner vocabulary from ../data/ner_vocab...\n",
      "NER vocabulary size: 20\n",
      "Load relation vocabulary from ../data/rel_vocab...\n",
      "Rel vocabulary size: 39\n",
      "Use cuda: False\n",
      "635\n",
      "TriAN(\n",
      "  (embedding): Embedding(33382, 300, padding_idx=0)\n",
      "  (pos_embedding): Embedding(51, 12, padding_idx=0)\n",
      "  (ner_embedding): Embedding(20, 8, padding_idx=0)\n",
      "  (rel_embedding): Embedding(39, 10, padding_idx=0)\n",
      "  (p_q_emb_match): SeqAttnMatch(\n",
      "    (linear): Linear(in_features=300, out_features=300, bias=True)\n",
      "  )\n",
      "  (doc_rnn): StackedBRNN(\n",
      "    (rnns): ModuleList(\n",
      "      (0): LSTM(635, 96, bidirectional=True)\n",
      "    )\n",
      "  )\n",
      "  (question_rnn): StackedBRNN(\n",
      "    (rnns): ModuleList(\n",
      "      (0): LSTM(312, 96, bidirectional=True)\n",
      "    )\n",
      "  )\n",
      "  (q_self_attn): LinearSeqAttn(\n",
      "    (linear): Linear(in_features=192, out_features=1, bias=True)\n",
      "  )\n",
      "  (p_q_attn): BilinearSeqAttn(\n",
      "    (linear): Linear(in_features=192, out_features=192, bias=True)\n",
      "  )\n",
      ")\n",
      "Number of parameters:  1009535\n"
     ]
    }
   ],
   "source": [
    "import model\n",
    "from utils import build_vocab\n",
    "build_vocab()\n",
    "model = model.Model(args)"
   ]
  },
  {
   "cell_type": "code",
   "execution_count": 4,
   "metadata": {},
   "outputs": [
    {
     "ename": "TypeError",
     "evalue": "forward() takes 12 positional arguments but 13 were given",
     "output_type": "error",
     "traceback": [
      "\u001b[0;31m---------------------------------------------------------------------------\u001b[0m",
      "\u001b[0;31mTypeError\u001b[0m                                 Traceback (most recent call last)",
      "\u001b[0;32m<ipython-input-4-c8644be457c1>\u001b[0m in \u001b[0;36m<module>\u001b[0;34m()\u001b[0m\n\u001b[0;32m----> 1\u001b[0;31m \u001b[0mmodel\u001b[0m\u001b[0;34m.\u001b[0m\u001b[0mpredict\u001b[0m\u001b[0;34m(\u001b[0m\u001b[0mdata\u001b[0m\u001b[0;34m)\u001b[0m\u001b[0;34m\u001b[0m\u001b[0m\n\u001b[0m",
      "\u001b[0;32m~/GDrive/Marc-Antoine/Project_QAModels/Workspace/TriAN_pytorch/src/model.py\u001b[0m in \u001b[0;36mpredict\u001b[0;34m(self, test_data)\u001b[0m\n\u001b[1;32m    132\u001b[0m         \u001b[0;32mfor\u001b[0m \u001b[0mbatch_input\u001b[0m \u001b[0;32min\u001b[0m \u001b[0mself\u001b[0m\u001b[0;34m.\u001b[0m\u001b[0m_iter_data\u001b[0m\u001b[0;34m(\u001b[0m\u001b[0mtest_data\u001b[0m\u001b[0;34m)\u001b[0m\u001b[0;34m:\u001b[0m\u001b[0;34m\u001b[0m\u001b[0m\n\u001b[1;32m    133\u001b[0m             \u001b[0mfeed_input\u001b[0m \u001b[0;34m=\u001b[0m \u001b[0;34m[\u001b[0m\u001b[0mx\u001b[0m \u001b[0;32mfor\u001b[0m \u001b[0mx\u001b[0m \u001b[0;32min\u001b[0m \u001b[0mbatch_input\u001b[0m\u001b[0;34m[\u001b[0m\u001b[0;34m:\u001b[0m\u001b[0;34m-\u001b[0m\u001b[0;36m1\u001b[0m\u001b[0;34m]\u001b[0m\u001b[0;34m]\u001b[0m\u001b[0;34m\u001b[0m\u001b[0m\n\u001b[0;32m--> 134\u001b[0;31m             \u001b[0mpred_proba\u001b[0m \u001b[0;34m=\u001b[0m \u001b[0mself\u001b[0m\u001b[0;34m.\u001b[0m\u001b[0mnetwork\u001b[0m\u001b[0;34m(\u001b[0m\u001b[0;34m*\u001b[0m\u001b[0mfeed_input\u001b[0m\u001b[0;34m)\u001b[0m\u001b[0;34m\u001b[0m\u001b[0m\n\u001b[0m\u001b[1;32m    135\u001b[0m             \u001b[0mpred_proba\u001b[0m \u001b[0;34m=\u001b[0m \u001b[0mpred_proba\u001b[0m\u001b[0;34m.\u001b[0m\u001b[0mdata\u001b[0m\u001b[0;34m.\u001b[0m\u001b[0mcpu\u001b[0m\u001b[0;34m(\u001b[0m\u001b[0;34m)\u001b[0m\u001b[0;34m\u001b[0m\u001b[0m\n\u001b[1;32m    136\u001b[0m             \u001b[0mprediction\u001b[0m \u001b[0;34m+=\u001b[0m \u001b[0mlist\u001b[0m\u001b[0;34m(\u001b[0m\u001b[0mpred_proba\u001b[0m\u001b[0;34m)\u001b[0m\u001b[0;34m\u001b[0m\u001b[0m\n",
      "\u001b[0;32m~/.local/lib/python3.6/site-packages/torch/nn/modules/module.py\u001b[0m in \u001b[0;36m__call__\u001b[0;34m(self, *input, **kwargs)\u001b[0m\n\u001b[1;32m    489\u001b[0m             \u001b[0mresult\u001b[0m \u001b[0;34m=\u001b[0m \u001b[0mself\u001b[0m\u001b[0;34m.\u001b[0m\u001b[0m_slow_forward\u001b[0m\u001b[0;34m(\u001b[0m\u001b[0;34m*\u001b[0m\u001b[0minput\u001b[0m\u001b[0;34m,\u001b[0m \u001b[0;34m**\u001b[0m\u001b[0mkwargs\u001b[0m\u001b[0;34m)\u001b[0m\u001b[0;34m\u001b[0m\u001b[0m\n\u001b[1;32m    490\u001b[0m         \u001b[0;32melse\u001b[0m\u001b[0;34m:\u001b[0m\u001b[0;34m\u001b[0m\u001b[0m\n\u001b[0;32m--> 491\u001b[0;31m             \u001b[0mresult\u001b[0m \u001b[0;34m=\u001b[0m \u001b[0mself\u001b[0m\u001b[0;34m.\u001b[0m\u001b[0mforward\u001b[0m\u001b[0;34m(\u001b[0m\u001b[0;34m*\u001b[0m\u001b[0minput\u001b[0m\u001b[0;34m,\u001b[0m \u001b[0;34m**\u001b[0m\u001b[0mkwargs\u001b[0m\u001b[0;34m)\u001b[0m\u001b[0;34m\u001b[0m\u001b[0m\n\u001b[0m\u001b[1;32m    492\u001b[0m         \u001b[0;32mfor\u001b[0m \u001b[0mhook\u001b[0m \u001b[0;32min\u001b[0m \u001b[0mself\u001b[0m\u001b[0;34m.\u001b[0m\u001b[0m_forward_hooks\u001b[0m\u001b[0;34m.\u001b[0m\u001b[0mvalues\u001b[0m\u001b[0;34m(\u001b[0m\u001b[0;34m)\u001b[0m\u001b[0;34m:\u001b[0m\u001b[0;34m\u001b[0m\u001b[0m\n\u001b[1;32m    493\u001b[0m             \u001b[0mhook_result\u001b[0m \u001b[0;34m=\u001b[0m \u001b[0mhook\u001b[0m\u001b[0;34m(\u001b[0m\u001b[0mself\u001b[0m\u001b[0;34m,\u001b[0m \u001b[0minput\u001b[0m\u001b[0;34m,\u001b[0m \u001b[0mresult\u001b[0m\u001b[0;34m)\u001b[0m\u001b[0;34m\u001b[0m\u001b[0m\n",
      "\u001b[0;31mTypeError\u001b[0m: forward() takes 12 positional arguments but 13 were given"
     ]
    }
   ],
   "source": [
    "model.predict(data)"
   ]
  },
  {
   "cell_type": "code",
   "execution_count": 5,
   "metadata": {},
   "outputs": [],
   "source": [
    "import json\n",
    "with open(\"/home/unchartech001/Downloads/SQuAD-v1.1.json\") as f:\n",
    "    data = json.load(f)"
   ]
  },
  {
   "cell_type": "code",
   "execution_count": 12,
   "metadata": {},
   "outputs": [
    {
     "data": {
      "text/plain": [
       "['Association',\n",
       " ['Rule',\n",
       "  \"'Context'\",\n",
       "  \"'New Yorkâ\\x80\\x94often called New York City or the City of New York to distinguish it from the State of New York, of which it is a partâ\\x80\\x94is the most populous city in the United States and the center of the New York metropolitan area, the premier gateway for legal immigration to the United States and one of the most populous urban agglomerations in the world. A global power city, New York exerts a significant impact upon commerce, finance, media, art, fashion, research, technology, education, and entertainment, its fast pace defining the term New York minute. Home to the headquarters of the United Nations, New York is an important center for international diplomacy and has been described as the cultural and financial capital of the world.'\"],\n",
       " ['Rule',\n",
       "  \"'QuestionAnswerSets'\",\n",
       "  ['List',\n",
       "   ['Association',\n",
       "    ['Rule',\n",
       "     \"'Question'\",\n",
       "     \"'What city in the United States has the highest population?'\"],\n",
       "    ['Rule', \"'Answers'\", ['List', \"'New York'\"]],\n",
       "    ['Rule', \"'AnswerPositions'\", ['List', 1]],\n",
       "    ['Rule', \"'QuestionID'\", \"'56ce304daab44d1400b8850e'\"]],\n",
       "   ['Association',\n",
       "    ['Rule', \"'Question'\", \"'In what city is the United Nations based?'\"],\n",
       "    ['Rule', \"'Answers'\", ['List', \"'New York'\"]],\n",
       "    ['Rule', \"'AnswerPositions'\", ['List', 1]],\n",
       "    ['Rule', \"'QuestionID'\", \"'56ce304daab44d1400b8850f'\"]],\n",
       "   ['Association',\n",
       "    ['Rule',\n",
       "     \"'Question'\",\n",
       "     \"'What city has been called the cultural capital of the world?'\"],\n",
       "    ['Rule', \"'Answers'\", ['List', \"'New York'\"]],\n",
       "    ['Rule', \"'AnswerPositions'\", ['List', 1]],\n",
       "    ['Rule', \"'QuestionID'\", \"'56ce304daab44d1400b88510'\"]],\n",
       "   ['Association',\n",
       "    ['Rule',\n",
       "     \"'Question'\",\n",
       "     \"'What American city welcomes the largest number of legal immigrants?'\"],\n",
       "    ['Rule', \"'Answers'\", ['List', \"'New York'\"]],\n",
       "    ['Rule', \"'AnswerPositions'\", ['List', 1]],\n",
       "    ['Rule', \"'QuestionID'\", \"'56ce304daab44d1400b88511'\"]],\n",
       "   ['Association',\n",
       "    ['Rule',\n",
       "     \"'Question'\",\n",
       "     \"'The major gateway for immigration has been which US city?'\"],\n",
       "    ['Rule', \"'Answers'\", ['List', \"'New York City'\"]],\n",
       "    ['Rule', \"'AnswerPositions'\", ['List', 23]],\n",
       "    ['Rule', \"'QuestionID'\", \"'56cf5d41aab44d1400b89130'\"]],\n",
       "   ['Association',\n",
       "    ['Rule',\n",
       "     \"'Question'\",\n",
       "     \"'The most populated city in the United States is which city?'\"],\n",
       "    ['Rule', \"'Answers'\", ['List', \"'New York City'\"]],\n",
       "    ['Rule', \"'AnswerPositions'\", ['List', 23]],\n",
       "    ['Rule', \"'QuestionID'\", \"'56cf5d41aab44d1400b89131'\"]]]],\n",
       " ['Rule', \"'Title'\", \"'New York City'\"],\n",
       " ['Rule', \"'ValidationRole'\", \"'Training'\"]]"
      ]
     },
     "execution_count": 12,
     "metadata": {},
     "output_type": "execute_result"
    }
   ],
   "source": [
    "data[1][584]"
   ]
  },
  {
   "cell_type": "code",
   "execution_count": null,
   "metadata": {},
   "outputs": [],
   "source": []
  },
  {
   "cell_type": "code",
   "execution_count": null,
   "metadata": {},
   "outputs": [],
   "source": []
  }
 ],
 "metadata": {
  "kernelspec": {
   "display_name": "Python 3",
   "language": "python",
   "name": "python3"
  },
  "language_info": {
   "codemirror_mode": {
    "name": "ipython",
    "version": 3
   },
   "file_extension": ".py",
   "mimetype": "text/x-python",
   "name": "python",
   "nbconvert_exporter": "python",
   "pygments_lexer": "ipython3",
   "version": "3.6.5"
  }
 },
 "nbformat": 4,
 "nbformat_minor": 2
}
